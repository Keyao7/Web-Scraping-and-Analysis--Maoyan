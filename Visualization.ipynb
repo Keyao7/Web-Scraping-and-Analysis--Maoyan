{
 "cells": [
  {
   "cell_type": "code",
   "execution_count": null,
   "metadata": {
    "cell_id": "00000-26eaf468-55ff-4001-bd04-e5bd04218dfa",
    "deepnote_cell_type": "code",
    "tags": []
   },
   "outputs": [],
   "source": [
    "import pandas as pd\n",
    "import numpy as np\n",
    "import scipy as sp\n",
    "import matplotlib as mpl \n",
    "import matplotlib.pyplot as plt\n",
    "import seaborn as sns\n",
    "#sets up pandas table display\n",
    "mpl.rcParams['font.sans-serif'] = ['SimHei']\n",
    "mpl.rcParams['axes.unicode_minus'] = False\n",
    "\n",
    "pd.set_option('display.width', 500)\n",
    "pd.set_option('display.max_columns', 100)\n",
    "pd.set_option('display.notebook_repr_html', True)"
   ]
  },
  {
   "cell_type": "code",
   "execution_count": null,
   "metadata": {
    "cell_id": "00001-46c4968c-ac23-468b-9049-954546a6fc8b",
    "deepnote_cell_type": "code",
    "tags": []
   },
   "outputs": [],
   "source": [
    "df_movies = pd.read_csv('Scraped_Data.csv')"
   ]
  },
  {
   "cell_type": "code",
   "execution_count": null,
   "metadata": {
    "cell_id": "00002-8186664d-7371-4478-beea-398f23fc674c",
    "deepnote_cell_type": "code",
    "tags": []
   },
   "outputs": [],
   "source": [
    "df_movies.head()"
   ]
  },
  {
   "cell_type": "code",
   "execution_count": null,
   "metadata": {
    "cell_id": "00003-fb71d28e-b4a6-435d-b371-d6860abe83b1",
    "deepnote_cell_type": "code",
    "tags": []
   },
   "outputs": [],
   "source": [
    "sns.set()\n",
    "sns.kdeplot(df_movies.Rating);"
   ]
  },
  {
   "cell_type": "code",
   "execution_count": null,
   "metadata": {
    "cell_id": "00004-53a7d78e-48c7-4cc1-8dce-ef1ef5bc577e",
    "deepnote_cell_type": "code",
    "tags": []
   },
   "outputs": [],
   "source": [
    "#这个散点图说明了长久以来，美国电影一直都是高质量\n",
    "clean_time = []\n",
    "for i in df_movies['Relaese Time']:\n",
    "    clean_time.append(i.split('-')[0][:4])\n",
    "clean_time.sort()\n",
    "\n",
    "plt.figure(figsize=(20,10))\n",
    "plt.xticks(rotation = 300)\n",
    "plt.scatter(clean_time, df_movies['Making Area'])\n",
    "ax = plt.gca()\n",
    "ax.invert_yaxis()\n",
    "\n",
    "# plt.grid(axis = 'y',linestyle='-')\n",
    "sns.despine()"
   ]
  },
  {
   "cell_type": "code",
   "execution_count": null,
   "metadata": {
    "cell_id": "00005-242118c9-bc06-4f8e-9b30-da06828458c6",
    "deepnote_cell_type": "code",
    "tags": []
   },
   "outputs": [],
   "source": [
    "film_area = df_movies['Making Area']\n",
    "film_area"
   ]
  },
  {
   "cell_type": "code",
   "execution_count": null,
   "metadata": {
    "cell_id": "00006-05510997-6648-4df1-8b8a-982a49c9efab",
    "deepnote_cell_type": "code",
    "tags": []
   },
   "outputs": [],
   "source": [
    "country_dic = {}\n",
    "for countries in film_area:\n",
    "    for elem in countries.split(','):\n",
    "        if elem not in country_dic:\n",
    "            country_dic[elem] = 1\n",
    "        else:\n",
    "            country_dic[elem] = country_dic[elem] + 1\n",
    "# country_dic = sorted(country_dic.items(), key=lambda x: x[1], reverse=True)\n",
    "country_sourted = sorted(country_dic.items(), key=lambda x: x[1], reverse=False)\n",
    "country_sourted"
   ]
  },
  {
   "cell_type": "code",
   "execution_count": null,
   "metadata": {
    "cell_id": "00007-5ae49ebb-94e3-4e26-be48-5bd025b073cb",
    "deepnote_cell_type": "code",
    "tags": []
   },
   "outputs": [],
   "source": [
    "pie_x_label = [58, 15,10,9,8,8,7,29]\n",
    "pie_y_label = ['美国','英国','日本','中国大陆','法国','德国','意大利','其他国家']\n",
    "bar_x_label = []\n",
    "bar_y_label = []\n",
    "for elem in country_sourted:\n",
    "    bar_x_label.append(elem[0])\n",
    "    bar_y_label.append(elem[1])"
   ]
  },
  {
   "cell_type": "code",
   "execution_count": null,
   "metadata": {
    "cell_id": "00008-1f1c5ef9-e5f4-4f85-b0cf-f56234ea0f49",
    "deepnote_cell_type": "code",
    "tags": []
   },
   "outputs": [],
   "source": [
    "bar_df_prepare = {\n",
    "    'country': bar_x_label,\n",
    "    'counts': bar_y_label,\n",
    "}\n",
    "bar_df = pd.DataFrame.from_dict(bar_df_prepare)[['country','counts']]\n",
    "bar_df.head()"
   ]
  },
  {
   "cell_type": "code",
   "execution_count": null,
   "metadata": {
    "cell_id": "00009-63ee3a8f-e281-4b16-9ce0-133f91e0bc5f",
    "deepnote_cell_type": "code",
    "tags": []
   },
   "outputs": [],
   "source": [
    "#这个图说明百大里面在美国制作的电影的比例\n",
    "plt.axes(aspect='equal')\n",
    "explode = [0.1,0,0,0,0,0,0,0,]\n",
    "plt.pie(x = pie_x_label, labels=pie_y_label,autopct='%.f%%',radius = 2, explode=explode,\n",
    "        textprops = {'fontsize':20, 'color':'black'})\n",
    "plt.show()"
   ]
  },
  {
   "cell_type": "code",
   "execution_count": null,
   "metadata": {
    "cell_id": "00010-2e40bf9f-2d70-49a6-ab8d-a9be0d37adc4",
    "deepnote_cell_type": "code",
    "tags": []
   },
   "outputs": [],
   "source": [
    "#这个图说明百大里面有多少部美国电影\n",
    "x = bar_x_label\n",
    "y = bar_y_label\n",
    "plt.figure(figsize=(15,5))\n",
    "ax = plt.gca()\n",
    "draw = ax.bar(x, y, label='{}'.format(y))\n",
    "ax.set_title('Movie  Counts  Making  in  Different  Area',fontsize=15)\n",
    "for a, draw in zip(x, y):\n",
    "    ax.text(a, draw+1, draw, ha='center', va='bottom')\n",
    "plt.xlim((0,10))\n",
    "plt.ylim((0,65))\n",
    "plt.grid(axis = 'y', color ='white', linestyle='-')\n",
    "plt.xticks(range(-1,len(x) + 1))\n",
    "ax.set_ylabel('Counts',fontsize=15, labelpad=20)\n",
    "sns.despine()"
   ]
  },
  {
   "cell_type": "code",
   "execution_count": null,
   "metadata": {
    "cell_id": "00011-b72310d0-ed8c-4bed-99c9-fe711119fb2f",
    "deepnote_cell_type": "code",
    "tags": []
   },
   "outputs": [],
   "source": [
    "index_area_dic = {}\n",
    "for i in range(100):\n",
    "    tmp = df_movies['Making Area'][i].split(',')\n",
    "    for elem in tmp:\n",
    "        if elem not in index_area_dic:\n",
    "            index_area_dic[elem] = [i]\n",
    "        else:\n",
    "            index_area_dic[elem].append(i)\n",
    "\n",
    "av_income_dic = {}\n",
    "\n",
    "for key, value in index_area_dic.items():\n",
    "    tmp_av_income = 0\n",
    "    tmp_total_income = 0\n",
    "    total_counts_without_income = 0\n",
    "    for index in value:\n",
    "        tmp_each_income = df_movies['Cumulative_income(ten thousand unit)'][index]\n",
    "        if not str(tmp_each_income) == 'nan':\n",
    "            tmp_total_income += tmp_each_income\n",
    "        else:\n",
    "            total_counts_without_income =  total_counts_without_income + 1\n",
    "        if (len(value)-total_counts_without_income) == 0:\n",
    "            continue\n",
    "        else:\n",
    "            tmp_av_income = tmp_total_income / (len(value)-total_counts_without_income)\n",
    "    av_income_dic[key] = int(tmp_av_income)\n",
    "\n",
    "\n",
    "av_income_x = []\n",
    "av_income_y = []\n",
    "av_income_sorted = sorted(av_income_dic.items(), key=lambda x: x[1], reverse=True)\n",
    "for elem in av_income_sorted:\n",
    "    av_income_x.append(elem[0])\n",
    "    av_income_y.append(elem[1])\n",
    "av_income_y"
   ]
  },
  {
   "cell_type": "code",
   "execution_count": null,
   "metadata": {
    "cell_id": "00012-e186f837-f567-4f7d-88f5-c8abb1adbefc",
    "deepnote_cell_type": "code",
    "tags": []
   },
   "outputs": [],
   "source": [
    "#这个图说明各地区平均票房\n",
    "x = av_income_x\n",
    "y = av_income_y\n",
    "plt.figure(figsize=(15,5))\n",
    "ax = plt.gca()\n",
    "draw = ax.bar(x, y, label='{}'.format(y))\n",
    "ax.set_title('Average Box Office',fontsize=15)\n",
    "for a, draw in zip(x, y):\n",
    "    ax.text(a, draw+1, draw, ha='center', va='bottom')\n",
    "# plt.xlim((0,10))\n",
    "# plt.ylim((0,65))\n",
    "plt.grid(axis = 'y', color ='white', linestyle='-')\n",
    "plt.xticks(range(-1,len(x) + 1))\n",
    "sns.despine()"
   ]
  },
  {
   "cell_type": "code",
   "execution_count": null,
   "metadata": {
    "cell_id": "00013-58fb6a22-2a66-4309-aa21-8492ce88bb17",
    "deepnote_cell_type": "code",
    "tags": []
   },
   "outputs": [],
   "source": [
    "comparison_US_dic = {}\n",
    "comparison_US_index = []\n",
    "for index in index_area_dic['美国']:\n",
    "    if not str(df_movies['Cumulative_income(ten thousand unit)'][index]) == 'nan':\n",
    "        comparison_US_index.append(index)\n",
    "for index in comparison_US_index:\n",
    "    comparison_US_dic[df_movies['Relaese Time'][index]] = int(df_movies['Cumulative_income(ten thousand unit)'][index])\n",
    "comparison_US_dic\n",
    "\n",
    "comparison_US_sorted = sorted(comparison_US_dic.items(), key=lambda x: x[0], reverse=False)\n",
    "comparison_US_x = []\n",
    "comparison_US_y = []\n",
    "for elem in comparison_US_sorted:\n",
    "    comparison_US_x.append(int(elem[0].split('-')[0]))\n",
    "    comparison_US_y.append(elem[1])\n",
    "comparison_US_x"
   ]
  },
  {
   "cell_type": "code",
   "execution_count": null,
   "metadata": {
    "cell_id": "00014-3d50b26e-5ccd-4638-a82a-491e98aefee9",
    "deepnote_cell_type": "code",
    "tags": []
   },
   "outputs": [],
   "source": [
    "comparison_CN_mainland_dic = {}\n",
    "comparison_CN_mainland_index = []\n",
    "for index in index_area_dic['中国大陆']:\n",
    "    if not str(df_movies['Cumulative_income(ten thousand unit)'][index]) == 'nan':\n",
    "        comparison_CN_mainland_index.append(index)\n",
    "for index in comparison_CN_mainland_index:\n",
    "    comparison_CN_mainland_dic[df_movies['Relaese Time'][index]] = int(df_movies['Cumulative_income(ten thousand unit)'][index])\n",
    "comparison_CN_mainland_dic\n",
    "\n",
    "comparison_CN_mainland_sorted = sorted(comparison_CN_mainland_dic.items(), key=lambda x: x[0], reverse=False)\n",
    "comparison_CN_mainland_x = []\n",
    "comparison_CN_mainland_y = []\n",
    "for elem in comparison_CN_mainland_sorted:\n",
    "    comparison_CN_mainland_x.append(int(elem[0].split('-')[0]))\n",
    "    comparison_CN_mainland_y.append(elem[1])\n",
    "comparison_CN_mainland_x"
   ]
  },
  {
   "cell_type": "code",
   "execution_count": null,
   "metadata": {
    "cell_id": "00015-4f5993b9-da91-45f4-b19c-3c9e912b6fbd",
    "deepnote_cell_type": "code",
    "tags": []
   },
   "outputs": [],
   "source": [
    "plt.figure(figsize=(15,5))\n",
    "plt.plot(comparison_CN_mainland_x, comparison_CN_mainland_y, 'r',label='China Mainland')\n",
    "plt.scatter(comparison_US_x, comparison_US_y)\n",
    "plt.plot(comparison_US_x, comparison_US_y, 'b',label='America')\n",
    "plt.scatter(comparison_CN_mainland_x, comparison_CN_mainland_y)\n",
    "plt.xlabel('x axis')\n",
    "plt.ylabel('y axis')\n",
    "plt.legend(loc=2,borderpad=2,fontsize = 12)\n",
    "plt.title('Box office variation',fontsize=15)\n",
    "x_ticks = np.linspace(1993,2020,10)\n",
    "plt.xticks(x_ticks,size = 10)\n",
    "sns.despine()"
   ]
  }
 ],
 "metadata": {
  "deepnote": {
   "is_reactive": false
  },
  "deepnote_execution_queue": [],
  "deepnote_notebook_id": "a4eb649d-0890-446c-8ff4-e0a385f870e1",
  "kernelspec": {
   "display_name": "Python 3",
   "language": "python",
   "name": "python3"
  },
  "language_info": {
   "codemirror_mode": {
    "name": "ipython",
    "version": 3
   },
   "file_extension": ".py",
   "mimetype": "text/x-python",
   "name": "python",
   "nbconvert_exporter": "python",
   "pygments_lexer": "ipython3",
   "version": "3.8.1"
  }
 },
 "nbformat": 4,
 "nbformat_minor": 2
}
